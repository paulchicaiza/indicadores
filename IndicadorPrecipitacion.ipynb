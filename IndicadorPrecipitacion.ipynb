{
 "cells": [
  {
   "cell_type": "code",
   "execution_count": 7,
   "metadata": {},
   "outputs": [
    {
     "name": "stdout",
     "output_type": "stream",
     "text": [
      "pandas 2.2.2\n",
      "numpy 1.26.4\n",
      "matplotlib 3.8.4\n"
     ]
    }
   ],
   "source": [
    "#Indicadores precipitacion\n",
    "import pandas as pd\n",
    "import numpy as np\n",
    "import matplotlib\n",
    "import matplotlib.pyplot as plt \n",
    "import plotly.graph_objects as go\n",
    "\n",
    "print(\"pandas\",pd.__version__)\n",
    "print(\"numpy\",np.__version__)\n",
    "print(\"matplotlib\",matplotlib.__version__)\n",
    "\n"
   ]
  },
  {
   "cell_type": "code",
   "execution_count": 19,
   "metadata": {},
   "outputs": [],
   "source": [
    "# Lectura de datos\n",
    "df_anual = pd.read_excel('M5025_Precipitacion_Anual.xlsx')\n",
    "df_mensual = pd.read_excel('M5025_Precipitacion_Mensual.xlsx')\n",
    "df_diario = pd.read_excel('M5025_Precipitacion_Diario.xlsx')\n",
    "df_horario = pd.read_excel('M5025_Precipitacion_Horario.xlsx')\n",
    "\n",
    "df_anual['Periodo'] = df_anual['Fecha'].dt.year\n",
    "df_mensual['Periodo'] = df_mensual['Fecha'].dt.year\n",
    "df_mensual['Mes'] = df_mensual['Fecha'].dt.month \n",
    "df_diario['Periodo'] = df_diario['Fecha'].dt.year\n",
    "\n",
    "dict_mes = {1:'Ene', 2:'Feb', 3:'Mar', 4:'Abr', 5:'May', 6:'Jun', 7:'Jul', 8:'Ago', 9:'Sep', 10:'Oct', 11:'Nov', 12:'Dic'}"
   ]
  },
  {
   "cell_type": "code",
   "execution_count": 9,
   "metadata": {},
   "outputs": [
    {
     "name": "stdout",
     "output_type": "stream",
     "text": [
      "Valor Año más seco = 1115.9\n",
      "Año más seco = 2013\n",
      "Valor Año más lluvioso = 1788.8\n",
      "Año más lluvioso = 2019\n",
      "Intensidad máxima acumulada horaria = 53.45\n",
      "Fecha Intensidad máxima acumulada horaria = 2013-05-20 14:00:00\n",
      "Percentil 10 = 0.3\n",
      "Percentil 95 = 16.9\n"
     ]
    }
   ],
   "source": [
    "# Intensidad máxima horaria\n",
    "max_value_index = df_horario['Valor'].idxmax()\n",
    "max_value = df_horario.loc[max_value_index,'Valor']\n",
    "max_date = df_horario.loc[max_value_index,'Fecha']\n",
    "# Año más lluvioso\n",
    "max_year_index = df_anual['Valor'].idxmax()\n",
    "max_year_value = df_anual.loc[max_year_index, 'Valor']\n",
    "max_year_date = df_anual.loc[max_year_index, 'Periodo']\n",
    "# Año más seco\n",
    "min_year_index = df_anual['Valor'].idxmin()\n",
    "min_year_value = df_anual.loc[min_year_index, 'Valor']\n",
    "min_year_date = df_anual.loc[min_year_index, 'Periodo']\n",
    "# Percentiles diarios\n",
    "q10 = df_diario.loc[df_diario['Valor']>0,'Valor'].quantile(0.1)\n",
    "q95 = df_diario.loc[df_diario['Valor']>0, 'Valor'].quantile(0.95)\n",
    "\n",
    "\n",
    "print(f'Valor Año más seco = {min_year_value}')\n",
    "print(f'Año más seco = {min_year_date}')\n",
    "print(f'Valor Año más lluvioso = {max_year_value}')\n",
    "print(f'Año más lluvioso = {max_year_date}')\n",
    "print(f'Intensidad máxima acumulada horaria = {max_value}')\n",
    "print(f'Fecha Intensidad máxima acumulada horaria = {max_date}')\n",
    "print(f'Percentil 10 = {q10}')\n",
    "print(f'Percentil 95 = {q95}')"
   ]
  },
  {
   "cell_type": "code",
   "execution_count": 10,
   "metadata": {},
   "outputs": [],
   "source": [
    "# Meses secos y lluviosos\n",
    "\n",
    "df_max_ind = df_mensual.groupby('Periodo')['Valor'].idxmax()\n",
    "df_min_ind = df_mensual.groupby('Periodo')['Valor'].idxmin()\n",
    "df_meses_humedos = df_mensual.loc[df_max_ind.to_list(),['Periodo','Mes','Valor']].reset_index(drop=True)\n",
    "df_meses_secos = df_mensual.loc[df_min_ind.to_list(),['Periodo','Mes','Valor']].reset_index(drop=True)"
   ]
  },
  {
   "cell_type": "code",
   "execution_count": 11,
   "metadata": {},
   "outputs": [],
   "source": [
    "# Dias consecutivos secos y lluviosos\n",
    "\n",
    "umbral = 0.1\n",
    "\n",
    " # Clasificar los días que hubo precipitación menor y mayor al umbral\n",
    "df_diario.loc[df_diario['Valor'] < umbral, 'lluvio'] = 1\n",
    "df_diario.loc[df_diario['Valor'] >= umbral, 'lluvio'] = 0\n",
    "# Sumar acumulativamente los días con lluvia\n",
    "df_diario['cuenta'] = (df_diario['lluvio'] == 0).cumsum()\n",
    "# Agrupa y sumar acumulativamente los días secos\n",
    "df_diario['cdd'] = df_diario.groupby('cuenta', dropna=False)['lluvio'].cumsum()\n",
    "# Extraer los días secos por año\n",
    "df_dias_secos = df_diario.groupby('Periodo')['cdd'].max()\n",
    "\n",
    "# Clasificar los días que hubo precipitación menor y mayor a 0.1\n",
    "df_diario.replace({np.nan: 0}, inplace=True)\n",
    "df_diario.loc[df_diario['Valor'] <= umbral, 'lluvio'] = 0\n",
    "df_diario.loc[df_diario['Valor'] > umbral, 'lluvio'] = 1\n",
    "\n",
    "# Sumar acumulativamente los días secos\n",
    "df_diario['cuenta'] = (df_diario['lluvio'] == 0).cumsum()\n",
    "# Agrupa y sumar acumulativamente los días humedos\n",
    "df_diario['cwd'] = df_diario.groupby('cuenta', dropna=False)['lluvio'].cumsum()\n",
    "# Extraer los días humedos por año\n",
    "df_dias_humedos = df_diario.groupby('Periodo')['cwd'].max()\n",
    "\n",
    "\n"
   ]
  },
  {
   "cell_type": "code",
   "execution_count": 23,
   "metadata": {},
   "outputs": [
    {
     "name": "stdout",
     "output_type": "stream",
     "text": [
      "Valores Mensuales\n",
      "    Periodo     Ene    Feb     Mar    Abr     May     Jun     Jul     Ago  \\\n",
      "0      2012  115.75  156.0   99.75  117.0  148.75  155.75  175.75  150.25   \n",
      "1      2013     NaN    NaN   87.50   66.0  212.50  102.90  212.00  115.10   \n",
      "2      2014   99.60   22.5  132.90   94.2  126.80  192.40  158.20  136.70   \n",
      "3      2015  105.90   90.4   95.90  109.4  107.50  329.80  239.60  142.70   \n",
      "4      2016   29.50  109.7  127.00  158.7  106.10  249.70  164.50   58.50   \n",
      "5      2017  157.30   82.1  190.10   88.1  178.40  181.10  260.40  175.90   \n",
      "6      2018  162.00   66.6   80.60  121.4  198.20  229.50  167.30  177.80   \n",
      "7      2019  105.40   94.0   67.80   92.6  217.80  281.10  253.40  161.30   \n",
      "8      2020  118.20   85.1   94.40  111.2  158.10  193.70  256.30  124.00   \n",
      "9      2021  141.00  145.4  199.20  100.3     NaN     NaN  229.50  118.10   \n",
      "10     2022     NaN   83.1  137.30  120.5  152.80  199.20  249.50  194.50   \n",
      "11     2023  139.90   90.7  202.50  149.0  126.10  160.40  222.50  146.90   \n",
      "\n",
      "       Sep    Oct     Nov    Dic   Valor  Porcentaje de Registro  \n",
      "0    37.75   99.0   52.25   93.5  1401.5                   100.0  \n",
      "1    93.40   99.9   81.50   45.1  1115.9                   100.0  \n",
      "2    97.80  112.3   76.40   99.0  1348.8                   100.0  \n",
      "3    45.30   56.2   91.90   60.4  1475.0                   100.0  \n",
      "4   113.10   49.4   70.80   51.7  1288.7                   100.0  \n",
      "5    94.40  130.7   81.60  138.0  1758.1                   100.0  \n",
      "6    95.10   38.1   77.70  109.7  1524.0                   100.0  \n",
      "7   109.40  124.7  122.70  158.6  1788.8                   100.0  \n",
      "8   129.80   72.4  136.50  101.5  1581.2                   100.0  \n",
      "9   130.50  130.7   93.00    NaN     NaN                     NaN  \n",
      "10   92.40  108.3  100.10   85.4  1523.1                   100.0  \n",
      "11   75.80   60.5  119.50  133.5  1627.3                   100.0  \n",
      "Indicadores por Año\n",
      "    Periodo  Mes_Secos  Valor_Secos  Mes_Humedos  Valor_Humedos   cwd   cdd  \\\n",
      "0      2012          9        37.75            7         175.75  40.0   5.0   \n",
      "1      2013         12        45.10            5         212.50  19.0   4.0   \n",
      "2      2014          2        22.50            6         192.40  50.0   5.0   \n",
      "3      2015          9        45.30            6         329.80  23.0   3.0   \n",
      "4      2016          1        29.50            6         249.70  29.0   5.0   \n",
      "5      2017         11        81.60            7         260.40  31.0   7.0   \n",
      "6      2018         10        38.10            6         229.50  61.0   5.0   \n",
      "7      2019          3        67.80            6         281.10  24.0   4.0   \n",
      "8      2020         10        72.40            7         256.30  21.0  10.0   \n",
      "9      2021         11        93.00            7         229.50  18.0   6.0   \n",
      "10     2022          2        83.10            7         249.50  21.0   6.0   \n",
      "11     2023         10        60.50            7         222.50  34.0   4.0   \n",
      "\n",
      "    sindx                                Interpretacion  \n",
      "0    0.16   Homogéneo pero con una temporada más húmeda  \n",
      "1    0.18   Homogéneo pero con una temporada más húmeda  \n",
      "2    0.15   Homogéneo pero con una temporada más húmeda  \n",
      "3    0.25  Algo estacional con una temporada seca corta  \n",
      "4    0.24  Algo estacional con una temporada seca corta  \n",
      "5    0.16   Homogéneo pero con una temporada más húmeda  \n",
      "6    0.21  Algo estacional con una temporada seca corta  \n",
      "7    0.20   Homogéneo pero con una temporada más húmeda  \n",
      "8    0.15   Homogéneo pero con una temporada más húmeda  \n",
      "9    0.00                                 Muy homogéneo  \n",
      "10   0.17   Homogéneo pero con una temporada más húmeda  \n",
      "11   0.14   Homogéneo pero con una temporada más húmeda  \n"
     ]
    }
   ],
   "source": [
    "\n",
    "df_mensual['ValorAbs'] = df_mensual.apply(lambda row: abs(row['Valor'] - (df_anual.loc[df_anual['Periodo'] == row['Periodo'], 'Valor'].iloc[0])/12) , axis=1 )\n",
    "df_indx = df_mensual.groupby('Periodo')[['Valor','ValorAbs']].sum()\n",
    "df_indx['sindx'] = df_indx.apply(lambda row: round(row['ValorAbs']/row['Valor']*6/11,2), axis=1)\n",
    "\n",
    "# Tabla de referencia\n",
    "data = {'Minimo': [0, 0.10, 0.21, 0.32, 0.43, 0.54, 0.65],\n",
    "        'Maximo': [0.1, 0.21, 0.32, 0.43, 0.54, 0.65,1],\n",
    "        'Regimen':['Muy homogéneo',\n",
    "                   'Homogéneo pero con una temporada más húmeda', \n",
    "                   'Algo estacional con una temporada seca corta',\n",
    "                   'Estacional',\n",
    "                   'Marcadamente estacional con una temporada seca larga',\n",
    "                   'Mayoría de la lluvia en 3 meses o menos',\n",
    "                   'Extrema, casi toda la lluvia en 1-2 meses']}\n",
    "\n",
    "df_ref = pd.DataFrame(data)\n",
    "df_indx['Interpretacion'] = df_indx.apply(lambda row: df_ref.loc[(df_ref['Minimo']<= row['sindx']) & (row['sindx']<df_ref['Maximo']),'Regimen'].iloc[0], axis=1 )\n",
    "df_indx.reset_index(inplace=True)\n",
    "\n",
    "\n",
    "df_resumen_mensual = pd.pivot_table(df_mensual, values='Valor', index='Periodo', columns='Mes', aggfunc='first')\n",
    "df_resumen_mensual.rename(columns=dict_mes, inplace=True)\n",
    "df_resumen_mensual = pd.merge(df_resumen_mensual, df_anual.loc[:,['Periodo', 'Valor','Porcentaje de Registro']], on='Periodo')\n",
    "\n",
    "df_resumen = pd.merge(df_meses_secos, df_meses_humedos, on='Periodo', suffixes=('_Secos', '_Humedos'))\n",
    "df_resumen = pd.merge(df_resumen, df_dias_humedos, on='Periodo')\n",
    "df_resumen = pd.merge(df_resumen, df_dias_secos, on='Periodo')\n",
    "df_resumen = pd.merge(df_resumen, df_indx.loc[:,['Periodo', 'sindx','Interpretacion']], on='Periodo')\n",
    "\n",
    "\n",
    "print(\"Valores Mensuales\")\n",
    "print(df_resumen_mensual)\n",
    "\n",
    "print(\"Indicadores por Año\")\n",
    "print(df_resumen)"
   ]
  }
 ],
 "metadata": {
  "kernelspec": {
   "display_name": "base",
   "language": "python",
   "name": "python3"
  },
  "language_info": {
   "codemirror_mode": {
    "name": "ipython",
    "version": 3
   },
   "file_extension": ".py",
   "mimetype": "text/x-python",
   "name": "python",
   "nbconvert_exporter": "python",
   "pygments_lexer": "ipython3",
   "version": "3.10.13"
  }
 },
 "nbformat": 4,
 "nbformat_minor": 2
}
